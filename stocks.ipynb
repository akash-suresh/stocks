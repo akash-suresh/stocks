{
 "cells": [
  {
   "cell_type": "code",
   "execution_count": 235,
   "metadata": {},
   "outputs": [],
   "source": [
    "import csv\n",
    "import math\n",
    "import requests\n",
    "import urllib2\n",
    "from bs4 import BeautifulSoup as BS\n",
    "import numpy as np\n",
    "from __future__ import division"
   ]
  },
  {
   "cell_type": "code",
   "execution_count": 236,
   "metadata": {
    "collapsed": true
   },
   "outputs": [],
   "source": [
    "#Please download key ratios csv from morningstar.in and give its name below\n",
    "def hitMorningStar(Type, companyCode):\n",
    "    if(Type=='keyRatio'):\n",
    "        morningStarURL = \"http://financials.morningstar.com/ajax/exportKR2CSV.html?t=\"\n",
    "        morningStarURL += companyCode\n",
    "    else:\n",
    "        morningStarURL = \"http://financials.morningstar.com/ajax/ReportProcess4CSV.html?t=\"+companyCode+\"&reportType=bs&period=12&dataType=A&order=asc&columnYear=5&number=3\"\n",
    "    #hit API here and download csv.\n",
    "\n",
    "    with requests.Session() as s:\n",
    "        download = s.get(morningStarURL)\n",
    "        decoded_content = download.content\n",
    "        cr = csv.reader(decoded_content.splitlines(), delimiter=',')\n",
    "        mylist = list(cr)\n",
    "        \n",
    "    return mylist"
   ]
  },
  {
   "cell_type": "code",
   "execution_count": 237,
   "metadata": {
    "collapsed": true
   },
   "outputs": [],
   "source": [
    "def convToFloat(var):\n",
    "    if(var=='' or var=='-'):\n",
    "        var=float(0.0)\n",
    "    else:\n",
    "        n=len(var)\n",
    "        rstr=\"\"\n",
    "        for ctr in range(0,n):\n",
    "            #print(ctr)\n",
    "            if(var[ctr]!=','):\n",
    "                rstr=rstr+var[ctr]\n",
    "        var=float(rstr)\n",
    "    return(var)\n"
   ]
  },
  {
   "cell_type": "code",
   "execution_count": 238,
   "metadata": {
    "collapsed": true
   },
   "outputs": [],
   "source": [
    "def makeRequest(url):\n",
    "    req = urllib2.Request(url,headers={'User-Agent': 'Mozilla/5.0'})\n",
    "    html = urllib2.urlopen(req).read()\n",
    "    soup = BS(html, \"html.parser\")\n",
    "    return soup"
   ]
  },
  {
   "cell_type": "code",
   "execution_count": 239,
   "metadata": {},
   "outputs": [],
   "source": [
    "def getCurrentDetails(companyName):\n",
    "    url='https://in.investing.com/equities/'+companyName\n",
    "    #req = urllib.request.Request('https://in.investing.com/equities/havells-india', headers={'User-Agent': 'Mozilla/5.0'}) #VERY IMP\n",
    "\n",
    "    soup = makeRequest(url)\n",
    "    currentDetails = {}\n",
    "    \n",
    "    #to get last trade price\n",
    "    ltp=soup.find(class_=\"newInput inputTextBox alertValue\")\n",
    "    ltp=convToFloat(ltp['value'])\n",
    "    currentDetails['ltp'] = ltp\n",
    "    print('ltp - ',ltp)\n",
    "    \n",
    "    #to get name\n",
    "    scrip=soup.find(class_=\"float_lang_base_1 relativeAttr\").get_text()\n",
    "    currentDetails['scrip'] = scrip\n",
    "    print (scrip)\n",
    "\n",
    "    #to get industry\n",
    "    industry=soup.find(class_=\"companyProfileHeader\").get_text()\n",
    "    currentDetails['industry'] = industry\n",
    "    print (industry)\n",
    "\n",
    "    #to get market cap\n",
    "    mcap=soup.find_all(class_=\"float_lang_base_2 bold\")\n",
    "    marketcap=(mcap[7]).get_text()\n",
    "    currentDetails['marketCap'] = marketcap\n",
    "    print (marketcap)\n",
    "\n",
    "    return currentDetails, ltp, scrip, industry, marketcap\n",
    "    "
   ]
  },
  {
   "cell_type": "code",
   "execution_count": 277,
   "metadata": {
    "collapsed": true
   },
   "outputs": [],
   "source": [
    "def getValue(row):\n",
    "    value=convToFloat(row[5])/10\n",
    "    return value\n",
    "\n",
    "def parseBalanceSheet(companyCode):\n",
    "    #balanceSheetURL='https://in.investing.com/equities/'+companyName+'-balance-sheet'\n",
    "    mylist = hitMorningStar('bs',companyCode)\n",
    "\n",
    "    currentAssets = totalAssets = currentLiabilities = totalLiabilities = totalEquity = intangibles = 0\n",
    "    for row in mylist:\n",
    "        key = row[0]\n",
    "        if(key=='Total current assets'):\n",
    "            currentAssets=getValue(row)\n",
    "        elif(key==\"Total assets\"):\n",
    "            totalAssets=getValue(row)\n",
    "        elif(key==\"Total current liabilities\"):\n",
    "            currentLiabilities=getValue(row)\n",
    "        elif(key==\"Total liabilities\"):\n",
    "            totalLiabilities=getValue(row)\n",
    "        elif(key==\"Total stockholders' equity\"):\n",
    "            totalEquity=getValue(row)\n",
    "        elif(key==\"Intangible assets\"):\n",
    "            intangibles=getValue(row)\n",
    "        \n",
    "    print currentAssets, totalAssets, currentLiabilities, totalLiabilities, totalEquity, intangibles\n",
    "    return currentAssets, totalAssets, currentLiabilities, totalLiabilities, totalEquity, intangibles"
   ]
  },
  {
   "cell_type": "code",
   "execution_count": 299,
   "metadata": {
    "scrolled": true
   },
   "outputs": [],
   "source": [
    "def writeCSVRow(companyName, companyCode):\n",
    "    mylist = hitMorningStar('keyRatio',companyCode)\n",
    "    currentDetails, ltp, scrip, industry, marketcap = getCurrentDetails(companyName)\n",
    "    currentAssets, totalAssets, currentLiabilities, totalLiabilities, totalEquity, intangibles = parseBalanceSheet(companyCode)\n",
    "    \n",
    "    nshares=(convToFloat(mylist[11][10]))/10\n",
    "    #print(nshares)\n",
    "\n",
    "    eps=float(mylist[8][10])\n",
    "    #print(eps)\n",
    "\n",
    "    pe=ltp/eps\n",
    "    if(currentLiabilities!=0):\n",
    "        cacl=currentAssets/currentLiabilities\n",
    "    else:\n",
    "        cacl=0\n",
    "    ca=1.1*currentAssets\n",
    "    nta=totalAssets-goodWill-intangibles\n",
    "    ntas=nta/nshares\n",
    "    if(ntas!=0):\n",
    "        pnta=ltp/ntas\n",
    "    else:\n",
    "        pnta=0\n",
    "\n",
    "\n",
    "    ltde=convToFloat(mylist[99][10])\n",
    "\n",
    "    roe1=convToFloat(mylist[38][6])\n",
    "    roe2=convToFloat(mylist[38][7])\n",
    "    roe3=convToFloat(mylist[38][8])\n",
    "    roe4=convToFloat(mylist[38][9])\n",
    "    roe5=convToFloat(mylist[38][10])\n",
    "    roe5ya=(roe1+roe2+roe3+roe4+roe5)/5\n",
    "    ni5y=convToFloat(mylist[56][10])\n",
    "    rg10y=convToFloat(mylist[47][10])\n",
    "    eps10y=convToFloat(mylist[62][10])\n",
    "    #print(mylist[9][0])\n",
    "    #print(mylist[12][0])\n",
    "    d8=convToFloat(mylist[9][1])\n",
    "    d9=convToFloat(mylist[9][2])\n",
    "    d10=convToFloat(mylist[9][3])\n",
    "    d11=convToFloat(mylist[9][4])\n",
    "    d12=convToFloat(mylist[9][5])\n",
    "    d13=convToFloat(mylist[9][6])\n",
    "    d14=convToFloat(mylist[9][7])\n",
    "    d15=convToFloat(mylist[9][8])\n",
    "    d16=convToFloat(mylist[9][9])\n",
    "    d17=convToFloat(mylist[9][10])\n",
    "    b8=convToFloat(mylist[12][1])\n",
    "    b9=convToFloat(mylist[12][2])\n",
    "    b10=convToFloat(mylist[12][3])\n",
    "    b11=convToFloat(mylist[12][4])\n",
    "    b12=convToFloat(mylist[12][5])\n",
    "    b13=convToFloat(mylist[12][6])\n",
    "    b14=convToFloat(mylist[12][7])\n",
    "    b15=convToFloat(mylist[12][8])\n",
    "    b16=convToFloat(mylist[12][9])\n",
    "    b17=convToFloat(mylist[12][10])\n",
    "    if(b17<1 or b8<1):\n",
    "        bvchange=10\n",
    "    else:\n",
    "        bvchange=((math.pow((b17/b8),0.1))-1)*100\n",
    "\n",
    "    defInterestRate = 6.25\n",
    "    FVofDividend = np.fv(defInterestRate/100.0,10,-1*d17,-1*d17,0)\n",
    "    FVofBV = np.fv(bvchange/100.0,10,0,-1*b17)\n",
    "    Total = FVofDividend + FVofBV\n",
    "    IntrinsicValue = np.pv(defInterestRate/100.0,10,0,-1*Total,0)\n",
    "    PercentageIncrease = 100*(ltp - IntrinsicValue)/IntrinsicValue\n",
    "    #print(nshares)\n",
    "    nlist=[[scrip,industry,nshares,marketcap,ltp, IntrinsicValue, PercentageIncrease, eps,pe,totalAssets,currentAssets,currentLiabilities,cacl,totalLiabilities,ca,goodWill,intangibles,nta,ntas,pnta,ltde,roe1,roe2,roe3,roe4,roe5,roe5ya,ni5y,rg10y,eps10y,d8,d9,d10,d11,d12,d13,d14,d15,d16,d17,b8,b9,b10,b11,b12,b13,b14,b15,b16,b17,bvchange,    FVofDividend, FVofBV, Total, ltp, IntrinsicValue, PercentageIncrease]]\n",
    "    #print(nlist)\n",
    "    #all data will be put into this csv file. This file is overwritten every time you run the code.\n",
    "    print 'Started writing to csv'\n",
    "    my_new_list = open('stock.csv', 'a')\n",
    "    csv_writer = csv.writer(my_new_list)\n",
    "    csv_writer.writerows(nlist)\n",
    "    my_new_list.close()\n",
    "    print 'Finished writing'"
   ]
  },
  {
   "cell_type": "code",
   "execution_count": 306,
   "metadata": {
    "collapsed": true
   },
   "outputs": [],
   "source": [
    "companyCode = \"SUNPHARMA\"\n",
    "companyName = \"sun-pharma-advanced-research\""
   ]
  },
  {
   "cell_type": "code",
   "execution_count": 307,
   "metadata": {},
   "outputs": [
    {
     "name": "stdout",
     "output_type": "stream",
     "text": [
      "('ltp - ', 551.2)\n",
      "Sun Pharmaceutical Industries Ltd. (SUN)\t\n",
      "\n",
      "IndustryBiotechnology & Drugs\n",
      "SectorHealthcare\n",
      "Employees17516\n",
      "Equity TypeORD\n",
      "\n",
      "1,322.5B\n",
      "32953.6 61410.2 17887.0 24770.6 36639.7 10416.5\n",
      "Started writing to csv\n",
      "Finished writing\n"
     ]
    }
   ],
   "source": [
    "writeCSVRow(companyName, companyCode)"
   ]
  },
  {
   "cell_type": "code",
   "execution_count": null,
   "metadata": {
    "collapsed": true
   },
   "outputs": [],
   "source": []
  }
 ],
 "metadata": {
  "kernelspec": {
   "display_name": "Python 2",
   "language": "python",
   "name": "python2"
  },
  "language_info": {
   "codemirror_mode": {
    "name": "ipython",
    "version": 2
   },
   "file_extension": ".py",
   "mimetype": "text/x-python",
   "name": "python",
   "nbconvert_exporter": "python",
   "pygments_lexer": "ipython2",
   "version": "2.7.14"
  }
 },
 "nbformat": 4,
 "nbformat_minor": 2
}
