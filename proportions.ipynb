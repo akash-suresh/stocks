{
 "cells": [
  {
   "cell_type": "code",
   "execution_count": 5,
   "metadata": {},
   "outputs": [],
   "source": [
    "companies = ['Allcargo', 'Dhfl', 'Lupin','Uflex', 'Grasim', 'Sintex']\n",
    "sky_list=[16,10,15,36,20,6]\n",
    "raju_list = [23,12,6,14,16,17]"
   ]
  },
  {
   "cell_type": "code",
   "execution_count": 6,
   "metadata": {},
   "outputs": [],
   "source": [
    "def proportion_in_percentage(companies, investments):\n",
    "    total_investment = sum(investments)\n",
    "    print 'total - ',total_investment\n",
    "    for i in range(len(investments)):\n",
    "        print companies[i],' -- ',100*investments[i]/total_investment,'%'"
   ]
  },
  {
   "cell_type": "code",
   "execution_count": 7,
   "metadata": {},
   "outputs": [
    {
     "name": "stdout",
     "output_type": "stream",
     "text": [
      "total -  103\n",
      "Allcargo  --  15 %\n",
      "Dhfl  --  9 %\n",
      "Lupin  --  14 %\n",
      "Uflex  --  34 %\n",
      "Grasim  --  19 %\n",
      "Sintex  --  5 %\n"
     ]
    }
   ],
   "source": [
    "proportion_in_percentage(companies, sky_list)"
   ]
  },
  {
   "cell_type": "code",
   "execution_count": 8,
   "metadata": {},
   "outputs": [
    {
     "name": "stdout",
     "output_type": "stream",
     "text": [
      "total -  88\n",
      "Allcargo  --  26 %\n",
      "Dhfl  --  13 %\n",
      "Lupin  --  6 %\n",
      "Uflex  --  15 %\n",
      "Grasim  --  18 %\n",
      "Sintex  --  19 %\n"
     ]
    }
   ],
   "source": [
    "proportion_in_percentage(companies, raju_list)"
   ]
  },
  {
   "cell_type": "code",
   "execution_count": null,
   "metadata": {},
   "outputs": [],
   "source": []
  }
 ],
 "metadata": {
  "kernelspec": {
   "display_name": "Python 2",
   "language": "python",
   "name": "python2"
  },
  "language_info": {
   "codemirror_mode": {
    "name": "ipython",
    "version": 2
   },
   "file_extension": ".py",
   "mimetype": "text/x-python",
   "name": "python",
   "nbconvert_exporter": "python",
   "pygments_lexer": "ipython2",
   "version": "2.7.13"
  }
 },
 "nbformat": 4,
 "nbformat_minor": 2
}
