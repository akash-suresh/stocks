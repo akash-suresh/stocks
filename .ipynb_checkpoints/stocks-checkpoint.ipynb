{
 "cells": [
  {
   "cell_type": "code",
   "execution_count": 169,
   "metadata": {},
   "outputs": [],
   "source": [
    "import csv\n",
    "import math\n",
    "import requests\n",
    "import urllib2\n",
    "from bs4 import BeautifulSoup as BS\n",
    "import numpy as np\n"
   ]
  },
  {
   "cell_type": "code",
   "execution_count": 145,
   "metadata": {
    "collapsed": true
   },
   "outputs": [],
   "source": [
    "#Please download key ratios csv from morningstar.in and give its name below\n",
    "def hitMorningStar(Type, companyCode):\n",
    "    if(Type=='keyRatio'):\n",
    "        morningStarURL = \"http://financials.morningstar.com/ajax/exportKR2CSV.html?t=\"\n",
    "        morningStarURL += companyCode\n",
    "    else:\n",
    "        morningStarURL = \"http://financials.morningstar.com/ajax/ReportProcess4CSV.html?t=\"+companyCode+\"&reportType=bs&period=12&dataType=A&order=asc&columnYear=5&number=3\"\n",
    "    #hit API here and download csv.\n",
    "\n",
    "    with requests.Session() as s:\n",
    "        download = s.get(morningStarURL)\n",
    "        decoded_content = download.content\n",
    "        cr = csv.reader(decoded_content.splitlines(), delimiter=',')\n",
    "        mylist = list(cr)\n",
    "        \n",
    "    return mylist"
   ]
  },
  {
   "cell_type": "code",
   "execution_count": 146,
   "metadata": {
    "collapsed": true
   },
   "outputs": [],
   "source": [
    "def convToFloat(var):\n",
    "    if(var=='' or var=='-'):\n",
    "        var=float(0.0)\n",
    "    else:\n",
    "        n=len(var)\n",
    "        rstr=\"\"\n",
    "        for ctr in range(0,n):\n",
    "            #print(ctr)\n",
    "            if(var[ctr]!=','):\n",
    "                rstr=rstr+var[ctr]\n",
    "        var=float(rstr)\n",
    "    return(var)\n"
   ]
  },
  {
   "cell_type": "code",
   "execution_count": 147,
   "metadata": {
    "collapsed": true
   },
   "outputs": [],
   "source": [
    "def makeRequest(url):\n",
    "    req = urllib2.Request(url,headers={'User-Agent': 'Mozilla/5.0'})\n",
    "    html = urllib2.urlopen(req).read()\n",
    "    soup = BS(html, \"html.parser\")\n",
    "    return soup"
   ]
  },
  {
   "cell_type": "code",
   "execution_count": 148,
   "metadata": {},
   "outputs": [],
   "source": [
    "def getCurrentDetails(companyName):\n",
    "    url='https://in.investing.com/equities/'+companyName\n",
    "    #req = urllib.request.Request('https://in.investing.com/equities/havells-india', headers={'User-Agent': 'Mozilla/5.0'}) #VERY IMP\n",
    "\n",
    "    soup = makeRequest(url)\n",
    "    currentDetails = {}\n",
    "    \n",
    "    #to get last trade price\n",
    "    ltp=soup.find(class_=\"newInput inputTextBox alertValue\")\n",
    "    ltp=convToFloat(ltp['value'])\n",
    "    currentDetails['ltp'] = ltp\n",
    "    print('ltp - ',ltp)\n",
    "    \n",
    "    #to get name\n",
    "    scrip=soup.find(class_=\"float_lang_base_1 relativeAttr\").get_text()\n",
    "    currentDetails['scrip'] = scrip\n",
    "    print (scrip)\n",
    "\n",
    "    #to get industry\n",
    "    industry=soup.find(class_=\"companyProfileHeader\").get_text()\n",
    "    currentDetails['industry'] = industry\n",
    "    print (industry)\n",
    "\n",
    "    #to get market cap\n",
    "    mcap=soup.find_all(class_=\"float_lang_base_2 bold\")\n",
    "    marketcap=(mcap[7]).get_text()\n",
    "    currentDetails['marketCap'] = marketcap\n",
    "    print (marketcap)\n",
    "\n",
    "    return currentDetails, ltp, scrip, industry, marketcap\n",
    "    "
   ]
  },
  {
   "cell_type": "code",
   "execution_count": 156,
   "metadata": {
    "collapsed": true
   },
   "outputs": [],
   "source": [
    "def parseBalanceSheet(companyCode):\n",
    "    #balanceSheetURL='https://in.investing.com/equities/'+companyName+'-balance-sheet'\n",
    "    mylist = hitMorningStar('bs',companyCode)\n",
    "    #print balanceSheetURL\n",
    "    #Enter balance sheet\n",
    "    #soup = makeRequest(balanceSheetURL)\n",
    "    #balanceSheet= soup.find_all(id=\"parentTr\")\n",
    "\n",
    "    #to parse Total Current assets\n",
    "    req=balanceSheet[0]\n",
    "    ca=[]\n",
    "    for record in req.findAll('td'):\n",
    "        ca.append(str(record.text))\n",
    "    currentAssets=ca[2]\n",
    "    currentAssets=convToFloat(currentAssets)/10 #WHY?\n",
    "    print(currentAssets)\n",
    "\n",
    "\n",
    "    #to parse Total Total Assets\n",
    "    req=balanceSheet[1]\n",
    "    ta=[]\n",
    "    for record in req.findAll('td'):\n",
    "        ta.append(str(record.text))\n",
    "    totalAssets=ta[2]\n",
    "    totalAssets=convToFloat(totalAssets)/10\n",
    "    print(totalAssets)\n",
    "\n",
    "    #to parse Current Liabilities\n",
    "    req=balanceSheet[2]\n",
    "    cl=[]\n",
    "    for record in req.findAll('td'):\n",
    "        cl.append(str(record.text))\n",
    "    currentLiabilities=cl[2]\n",
    "    currentLiabilities=convToFloat(currentLiabilities)/10\n",
    "    print(currentLiabilities)\n",
    "\n",
    "    #to parse Total Liabilities\n",
    "    req=balanceSheet[3]\n",
    "    tl=[]\n",
    "    for record in req.findAll('td'):\n",
    "        tl.append(str(record.text))\n",
    "    totalLiabilities=tl[2]\n",
    "    if totalLiabilities== \"-\":\n",
    "        totalLiabilities=\"0\"\n",
    "    totalLiabilities=float(totalLiabilities)/10\n",
    "    print(totalLiabilities)\n",
    "\n",
    "    #to parse Total Equity\n",
    "    req=balanceSheet[4]\n",
    "    te=[]\n",
    "    for record in req.findAll('td'):\n",
    "        te.append(str(record.text))\n",
    "    totalEquity=te[2]\n",
    "    if totalEquity== \"-\":\n",
    "        totalEquity=\"0\"\n",
    "    totalequity=float(totalEquity)/10\n",
    "    print(totalEquity)\n",
    "\n",
    "    #to parse goodwill\n",
    "    balanceSheet= soup.find_all(class_=\"child\")\n",
    "    req=balanceSheet[12]\n",
    "    gw=[]\n",
    "    for record in req.findAll('td'):\n",
    "        gw.append(str(record.text))\n",
    "    goodWill=gw[2]\n",
    "    if goodWill== \"-\":\n",
    "        goodWill=\"0\"\n",
    "    goodWill=float(goodWill)/10\n",
    "    print(goodWill)\n",
    "\n",
    "    #to parse intangibles\n",
    "    req=balanceSheet[13]\n",
    "    inta=[]\n",
    "    for record in req.findAll('td'):\n",
    "        inta.append(str(record.text))\n",
    "    intangibles=inta[2]\n",
    "    if intangibles== \"-\":\n",
    "        intangibles=\"0\"\n",
    "    intangibles=float(intangibles)/10\n",
    "    print(intangibles)\n",
    "\n",
    "    return currentAssets, totalAssets, totalLiabilities, totalEquity, goodWill, intangibles"
   ]
  },
  {
   "cell_type": "code",
   "execution_count": 160,
   "metadata": {
    "scrolled": true
   },
   "outputs": [],
   "source": [
    "def writeCSVRow(companyName, companyCode):\n",
    "    mylist = hitMorningStar('keyRatio',companyCode)\n",
    "    currentDetails, ltp, scrip, industry, marketcap = getCurrentDetails(companyName)\n",
    "    currentAssets, totalAssets, totalLiabilities, totalEquity, goodWill, intangibles = parseBalanceSheet(companyName)\n",
    "    \n",
    "\n",
    "    #print(balsh[12])\n",
    "    #value1= soup.find_all('span')\n",
    "    #print(value1)\n",
    "    #a=value1[0].index(\"Total Common Shares Outstanding\")\n",
    "    #print(mylist)\n",
    "\n",
    "    #a is dummy variable\n",
    "    a=mylist[2][0]\n",
    "\n",
    "    nshares=(convToFloat(mylist[11][10]))/10\n",
    "    #print(nshares)\n",
    "\n",
    "    eps=float(mylist[8][10])\n",
    "    #print(eps)\n",
    "\n",
    "    pe=ltp/eps\n",
    "    cacl=currentAssets/currentLiabilities\n",
    "    ca=1.1*currentAssets\n",
    "    nta=totalAssets-goodWill-intangibles\n",
    "    ntas=nta/nshares\n",
    "    if(ntas!=0):\n",
    "        pnta=ltp/ntas\n",
    "    else:\n",
    "        pnta=0\n",
    "\n",
    "\n",
    "    ltde=convToFloat(mylist[99][10])\n",
    "\n",
    "    roe1=convToFloat(mylist[38][6])\n",
    "    roe2=convToFloat(mylist[38][7])\n",
    "    roe3=convToFloat(mylist[38][8])\n",
    "    roe4=convToFloat(mylist[38][9])\n",
    "    roe5=convToFloat(mylist[38][10])\n",
    "    roe5ya=(roe1+roe2+roe3+roe4+roe5)/5\n",
    "    ni5y=convToFloat(mylist[56][10])\n",
    "    rg10y=convToFloat(mylist[47][10])\n",
    "    eps10y=convToFloat(mylist[62][10])\n",
    "    #print(mylist[9][0])\n",
    "    #print(mylist[12][0])\n",
    "    d8=convToFloat(mylist[9][1])\n",
    "    d9=convToFloat(mylist[9][2])\n",
    "    d10=convToFloat(mylist[9][3])\n",
    "    d11=convToFloat(mylist[9][4])\n",
    "    d12=convToFloat(mylist[9][5])\n",
    "    d13=convToFloat(mylist[9][6])\n",
    "    d14=convToFloat(mylist[9][7])\n",
    "    d15=convToFloat(mylist[9][8])\n",
    "    d16=convToFloat(mylist[9][9])\n",
    "    d17=convToFloat(mylist[9][10])\n",
    "    b8=convToFloat(mylist[12][1])\n",
    "    b9=convToFloat(mylist[12][2])\n",
    "    b10=convToFloat(mylist[12][3])\n",
    "    b11=convToFloat(mylist[12][4])\n",
    "    b12=convToFloat(mylist[12][5])\n",
    "    b13=convToFloat(mylist[12][6])\n",
    "    b14=convToFloat(mylist[12][7])\n",
    "    b15=convToFloat(mylist[12][8])\n",
    "    b16=convToFloat(mylist[12][9])\n",
    "    b17=convToFloat(mylist[12][10])\n",
    "    if(b17<1 or b8<1):\n",
    "        bvchange=10\n",
    "    else:\n",
    "        bvchange=((math.pow((b17/b8),0.1))-1)*100\n",
    "\n",
    "    defInterestRate = 6.25\n",
    "    FVofDividend = np.fv(defInterestRate/100.0,10,-1*d17,-1*d17,0)\n",
    "    FVofBV = np.fv(bvchange/100.0,10,0,-1*b17)\n",
    "    Total = FVofDividend + FVofBV\n",
    "    IntrinsicValue = np.pv(defInterestRate/100.0,10,0,Total,0)\n",
    "    PercentageIncrease = 100*(IntrinsicValue - ltp)/ltp\n",
    "    #print(nshares)\n",
    "    nlist=[[scrip,industry,nshares,marketcap,ltp,eps,pe,totalAssets,currentAssets,currentLiabilities,cacl,totalLiabilities,ca,goodWill,intangibles,nta,ntas,pnta,ltde,roe1,roe2,roe3,roe4,roe5,roe5ya,ni5y,rg10y,eps10y,d8,d9,d10,d11,d12,d13,d14,d15,d16,d17,b8,b9,b10,b11,b12,b13,b14,b15,b16,b17,bvchange,    FVofDividend, FVofBV, Total, IntrinsicValue, PercentageIncrease]]\n",
    "    #print(nlist)\n",
    "    #all data will be put into this csv file. This file is overwritten every time you run the code.\n",
    "    my_new_list = open('stock.csv', 'a')\n",
    "    csv_writer = csv.writer(my_new_list)\n",
    "    csv_writer.writerows(nlist)\n",
    "    my_new_list.close()"
   ]
  },
  {
   "cell_type": "code",
   "execution_count": 161,
   "metadata": {
    "collapsed": true
   },
   "outputs": [],
   "source": [
    "companyCode = \"ALLCARGO\"\n",
    "companyName = \"allcargo-logistics\""
   ]
  },
  {
   "cell_type": "code",
   "execution_count": 162,
   "metadata": {},
   "outputs": [
    {
     "name": "stdout",
     "output_type": "stream",
     "text": [
      "('ltp - ', 189.8)\n",
      "Allcargo Logistics Ltd (ACLL)\t\n",
      "\n",
      "IndustryBusiness Services\n",
      "SectorServices\n",
      "Employees4423\n",
      "Equity TypeORD\n",
      "\n",
      "46.63B\n",
      "https://in.investing.com/equities/allcargo-logistics-balance-sheet\n",
      "0.0\n",
      "0.0\n",
      "0.0\n",
      "0.0\n",
      "0\n",
      "0.0\n",
      "0.0\n"
     ]
    }
   ],
   "source": [
    "writeCSVRow(companyName, companyCode)"
   ]
  },
  {
   "cell_type": "code",
   "execution_count": 167,
   "metadata": {},
   "outputs": [
    {
     "name": "stdout",
     "output_type": "stream",
     "text": [
      "https://in.investing.com/equities/reliance-industries-balance-sheet\n",
      "161804.0\n",
      "752024.0\n",
      "277636.0\n",
      "475715.0\n",
      "2763090\n",
      "4639.0\n",
      "103305.0\n"
     ]
    },
    {
     "data": {
      "text/plain": [
       "(161804.0, 752024.0, 475715.0, '2763090', 4639.0, 103305.0)"
      ]
     },
     "execution_count": 167,
     "metadata": {},
     "output_type": "execute_result"
    }
   ],
   "source": [
    "parseBalanceSheet(\"reliance-industries\")"
   ]
  },
  {
   "cell_type": "code",
   "execution_count": null,
   "metadata": {
    "collapsed": true
   },
   "outputs": [],
   "source": []
  }
 ],
 "metadata": {
  "kernelspec": {
   "display_name": "Python 2",
   "language": "python",
   "name": "python2"
  },
  "language_info": {
   "codemirror_mode": {
    "name": "ipython",
    "version": 2
   },
   "file_extension": ".py",
   "mimetype": "text/x-python",
   "name": "python",
   "nbconvert_exporter": "python",
   "pygments_lexer": "ipython2",
   "version": "2.7.14"
  }
 },
 "nbformat": 4,
 "nbformat_minor": 2
}
